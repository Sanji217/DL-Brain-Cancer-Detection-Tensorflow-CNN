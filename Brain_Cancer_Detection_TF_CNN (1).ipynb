{
  "nbformat": 4,
  "nbformat_minor": 0,
  "metadata": {
    "colab": {
      "provenance": []
    },
    "kernelspec": {
      "name": "python3",
      "display_name": "Python 3"
    },
    "language_info": {
      "name": "python"
    }
  },
  "cells": [
    {
      "cell_type": "code",
      "execution_count": null,
      "metadata": {
        "id": "tixIaK4H1SjR"
      },
      "outputs": [],
      "source": [
        "from google.colab import drive\n",
        "drive.mount(\"/content/drive\")"
      ]
    },
    {
      "cell_type": "code",
      "source": [
        "import numpy as np\n",
        "import matplotlib.pyplot as plt\n",
        "import os\n",
        "import math\n",
        "import shutil\n",
        "import glob"
      ],
      "metadata": {
        "id": "Dn9xZdxH1VRA"
      },
      "execution_count": 2,
      "outputs": []
    },
    {
      "cell_type": "code",
      "source": [
        "#Count the number of images in the respective classes - 0 - Brain Tumor and 1 - Healthy\n",
        "ROOT_DIR = \"/content/drive/MyDrive/Dataset/Brain_Tumor_Detection\"\n",
        "number_of_images = {}\n",
        "for dir in os.listdir(ROOT_DIR):\n",
        "  number_of_images[dir] = len(os.listdir(os.path.join(ROOT_DIR, dir)))\n",
        "number_of_images.items()\n"
      ],
      "metadata": {
        "id": "ntaAcMQ01XgP"
      },
      "execution_count": null,
      "outputs": []
    },
    {
      "cell_type": "code",
      "source": [
        "len(os.listdir(\"/content/drive/MyDrive/Dataset/Brain_Tumor_Detection\"))"
      ],
      "metadata": {
        "id": "Z4AOWXo71aev"
      },
      "execution_count": null,
      "outputs": []
    },
    {
      "cell_type": "code",
      "source": [
        "def dataFolder(p, split):\n",
        "  #Creating train Folder\n",
        "  if not os.path.exists('./'+p):\n",
        "    os.mkdir('./' + p)\n",
        "\n",
        "    for dir in os.listdir(ROOT_DIR):\n",
        "      os.makedirs('./' + p + \"/\" +dir)\n",
        "\n",
        "      for img in np.random.choice(a = os.listdir(os.path.join(ROOT_DIR, dir)),\n",
        "                                size = (math.floor(split * number_of_images[dir])-5),\n",
        "                                replace = False):\n",
        "        O = os.path.join(ROOT_DIR, dir, img)\n",
        "        D = os.path.join(\"./\"+p , dir)\n",
        "        shutil.copy(O, D)\n",
        "        os.remove(O)\n",
        "  else:\n",
        "    print(f\"{p} folder exists\")\n"
      ],
      "metadata": {
        "id": "j3qraWcJ1dR4"
      },
      "execution_count": 5,
      "outputs": []
    },
    {
      "cell_type": "markdown",
      "source": [
        "Creating Folders\n"
      ],
      "metadata": {
        "id": "Crq04P5UD_Ku"
      }
    },
    {
      "cell_type": "code",
      "source": [
        "dataFolder('train', 0.7)"
      ],
      "metadata": {
        "id": "8dJH_6wr1flH"
      },
      "execution_count": 6,
      "outputs": []
    },
    {
      "cell_type": "code",
      "source": [
        "dataFolder('val', 0.15)"
      ],
      "metadata": {
        "id": "KIaevDsI5XiH"
      },
      "execution_count": 7,
      "outputs": []
    },
    {
      "cell_type": "code",
      "source": [
        "dataFolder('test', 0.15)"
      ],
      "metadata": {
        "id": "BeIDrOBv5aiW"
      },
      "execution_count": 8,
      "outputs": []
    },
    {
      "cell_type": "code",
      "source": [
        "import os\n",
        "\n",
        "folder_path = '/content/train/Brain_Tumor'\n",
        "image_files = os.listdir(folder_path)\n",
        "\n",
        "# Print the first 5 image filenames\n",
        "print(image_files[:5])\n"
      ],
      "metadata": {
        "id": "ZTeZwREHJtSj"
      },
      "execution_count": null,
      "outputs": []
    },
    {
      "cell_type": "code",
      "source": [
        "from tensorflow.keras.preprocessing import image\n",
        "import numpy as np\n",
        "\n",
        "\n",
        "img_path = os.path.join(folder_path, image_files[0])\n",
        "\n",
        "\n",
        "img = image.load_img(img_path)\n",
        "\n",
        "img_array = np.array(img)\n",
        "\n",
        "print(img_array.shape)\n"
      ],
      "metadata": {
        "id": "x8hZYLPZJ5EZ"
      },
      "execution_count": null,
      "outputs": []
    },
    {
      "cell_type": "code",
      "source": [
        "#Model Building\n",
        "\n",
        "from keras.layers import Conv2D, MaxPool2D, Dropout, Flatten, Dense, BatchNormalization, GlobalAvgPool2D\n",
        "from keras.models import Sequential\n",
        "from tensorflow.keras.preprocessing.image import ImageDataGenerator\n",
        "import keras"
      ],
      "metadata": {
        "id": "mhsPbdxr58CR"
      },
      "execution_count": 11,
      "outputs": []
    },
    {
      "cell_type": "code",
      "source": [
        "#CNN Model\n",
        "\n",
        "model = Sequential()\n",
        "\n",
        "model.add(Conv2D(filters = 16, kernel_size = (3,3), activation = 'relu', input_shape = (224, 224, 3)))\n",
        "\n",
        "model.add(Conv2D(filters = 36, kernel_size = (3,3), activation = 'relu'))\n",
        "model.add(MaxPool2D(pool_size = (2,2)))\n",
        "\n",
        "model.add(Conv2D(filters = 64, kernel_size = (3,3), activation = 'relu'))\n",
        "model.add(MaxPool2D(pool_size = (2,2)))\n",
        "\n",
        "model.add(Conv2D(filters = 128, kernel_size = (3,3), activation = 'relu'))\n",
        "model.add(MaxPool2D(pool_size = (2,2)))\n",
        "\n",
        "model.add(Dropout(rate = 0.25))\n",
        "\n",
        "model.add(Flatten())\n",
        "model.add(Dense(units = 64, activation = 'relu'))\n",
        "model.add(Dropout(rate = 0.25))\n",
        "model.add(Dense(units = 1, activation = 'sigmoid'))\n",
        "\n",
        "model.summary()"
      ],
      "metadata": {
        "id": "e8qRjGaZ7EGr"
      },
      "execution_count": null,
      "outputs": []
    },
    {
      "cell_type": "code",
      "source": [
        "model.compile(optimizer = 'adam', loss = keras.losses.binary_crossentropy, metrics = ['accuracy'])"
      ],
      "metadata": {
        "id": "e8M0wJ-e-D2_"
      },
      "execution_count": 23,
      "outputs": []
    },
    {
      "cell_type": "code",
      "source": [
        "def preprocessingImages(path):\n",
        "  \"\"\"\n",
        "  input : path\n",
        "  output: preprocessed images\n",
        "  \"\"\"\n",
        "  image_data = ImageDataGenerator(zoom_range = 0.2, shear_range = 0.2, rescale = 1/255, horizontal_flip = True)\n",
        "  image = image_data.flow_from_directory(directory = path, target_size = (224, 224), batch_size = 32, class_mode = 'binary')\n",
        "  return image\n"
      ],
      "metadata": {
        "id": "wBsF6AqL_At-"
      },
      "execution_count": 14,
      "outputs": []
    },
    {
      "cell_type": "code",
      "source": [
        "path = '/content/train'\n",
        "train_data = preprocessingImages(path)"
      ],
      "metadata": {
        "id": "hKH8fTTJArvR"
      },
      "execution_count": null,
      "outputs": []
    },
    {
      "cell_type": "code",
      "source": [
        "def preprocessingImages2(path):\n",
        "  \"\"\"\n",
        "  input : path\n",
        "  output: preprocessed images\n",
        "  \"\"\"\n",
        "  image_data = ImageDataGenerator(rescale = 1/255)\n",
        "  image = image_data.flow_from_directory(directory = path, target_size = (224, 224), batch_size = 32, class_mode = 'binary')\n",
        "  return image"
      ],
      "metadata": {
        "id": "5chH8a6UBLrM"
      },
      "execution_count": 16,
      "outputs": []
    },
    {
      "cell_type": "code",
      "source": [
        "path = '/content/test'\n",
        "test_data = preprocessingImages2(path)"
      ],
      "metadata": {
        "id": "CYmZDMPmvCtc"
      },
      "execution_count": null,
      "outputs": []
    },
    {
      "cell_type": "code",
      "source": [
        "path = '/content/val'\n",
        "val_data = preprocessingImages2(path)"
      ],
      "metadata": {
        "id": "-neFaU4pvIUE"
      },
      "execution_count": null,
      "outputs": []
    },
    {
      "cell_type": "code",
      "source": [
        "train_data.class_indices"
      ],
      "metadata": {
        "id": "wPCJDkMoDobw"
      },
      "execution_count": null,
      "outputs": []
    },
    {
      "cell_type": "code",
      "source": [
        "from keras.callbacks import ModelCheckpoint, EarlyStopping\n",
        "\n",
        "es = EarlyStopping(monitor = 'val_accuracy', min_delta = 0.01, patience = 3, verbose = 1, mode ='auto')\n",
        "\n",
        "mc = ModelCheckpoint(monitor = 'val_accuracy', filepath ='/content/best_model.keras', verbose = 1,mode = 'auto')\n",
        "\n",
        "cd = [es, mc]"
      ],
      "metadata": {
        "id": "3Ld-kVbwvLVc"
      },
      "execution_count": 39,
      "outputs": []
    },
    {
      "cell_type": "code",
      "source": [
        "hs = model.fit(train_data,\n",
        "                         steps_per_epoch = 8,\n",
        "                         epochs = 10,\n",
        "                         verbose = 1,\n",
        "                         validation_data = val_data,\n",
        "                         validation_steps = 16)"
      ],
      "metadata": {
        "id": "fcWKo_RJvOQM"
      },
      "execution_count": null,
      "outputs": []
    },
    {
      "cell_type": "code",
      "source": [
        "model.save('/content/best_model.keras')\n"
      ],
      "metadata": {
        "id": "KZHQopesBkPg"
      },
      "execution_count": 45,
      "outputs": []
    },
    {
      "cell_type": "code",
      "source": [
        "#Model Graphical Interpretation\n",
        "\n",
        "h = hs.history\n",
        "h.keys()"
      ],
      "metadata": {
        "id": "XBWKUZfsvRzs"
      },
      "execution_count": null,
      "outputs": []
    },
    {
      "cell_type": "code",
      "source": [
        "import matplotlib.pyplot as plt\n",
        "plt.plot(hs.history['accuracy'])\n",
        "plt.plot(hs.history['val_accuracy'] , c= 'red')\n",
        "\n",
        "plt.title('acc vs Val_Acc')\n",
        "plt.show()"
      ],
      "metadata": {
        "id": "4JgoYMNJvXPP"
      },
      "execution_count": null,
      "outputs": []
    },
    {
      "cell_type": "code",
      "source": [
        "import matplotlib.pyplot as plt\n",
        "plt.plot(hs.history['loss'])\n",
        "plt.plot(hs.history['val_loss'] , c= 'red')\n",
        "\n",
        "plt.title('loss vs Val_loss', c = 'red')\n",
        "plt.show()"
      ],
      "metadata": {
        "id": "ETeo7zcTvdpL"
      },
      "execution_count": null,
      "outputs": []
    },
    {
      "cell_type": "code",
      "source": [
        "\n",
        "from keras.models import load_model\n",
        "\n",
        "model = load_model('/content/best_model.keras')"
      ],
      "metadata": {
        "id": "4pRDREm8veXL"
      },
      "execution_count": 46,
      "outputs": []
    },
    {
      "cell_type": "code",
      "source": [
        "#Model Accuracy\n",
        "\n",
        "acc = model.evaluate(test_data)[1]\n",
        "print(f\"The accuracy of our model is: {acc * 100} %\")"
      ],
      "metadata": {
        "id": "YPHpFwIMvlDD"
      },
      "execution_count": null,
      "outputs": []
    },
    {
      "cell_type": "code",
      "source": [
        "from keras.preprocessing.image import load_img, img_to_array"
      ],
      "metadata": {
        "id": "9IBB1vAavtlE"
      },
      "execution_count": 48,
      "outputs": []
    },
    {
      "cell_type": "code",
      "source": [
        "path = \"/content/train/Brain_Tumor/y0.jpg\"\n",
        "img = load_img(path, target_size = (224, 224))\n",
        "input_arr = img_to_array(img)/255\n",
        "\n",
        "input_arr.shape\n",
        "\n",
        "plt.imshow(input_arr)\n",
        "plt.show()\n",
        "\n",
        "input_arr = np.expand_dims(input_arr, axis = 0)\n",
        "\n",
        "pred = np.argmax(model.predict(input_arr), axis = -1)[0]\n",
        "\n",
        "if pred == 0:\n",
        "  print(\"The MRI image has a Brain Tumor\")\n",
        "else:\n",
        "  print(\"The MRI image is a healthy brain.\")"
      ],
      "metadata": {
        "id": "OuTp-cyUv3pr"
      },
      "execution_count": null,
      "outputs": []
    }
  ]
}